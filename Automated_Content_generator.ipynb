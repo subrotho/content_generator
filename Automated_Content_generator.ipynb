{
 "cells": [
  {
   "cell_type": "code",
   "execution_count": null,
   "metadata": {},
   "outputs": [],
   "source": [
    "! pip install transformers"
   ]
  },
  {
   "cell_type": "code",
   "execution_count": null,
   "metadata": {},
   "outputs": [],
   "source": [
    "! pip install --upgrade packaging"
   ]
  },
  {
   "cell_type": "code",
   "execution_count": null,
   "metadata": {},
   "outputs": [],
   "source": [
    "!pip install sentence-splitter"
   ]
  },
  {
   "cell_type": "code",
   "execution_count": null,
   "metadata": {},
   "outputs": [],
   "source": [
    "!pip install torch"
   ]
  },
  {
   "cell_type": "code",
   "execution_count": null,
   "metadata": {},
   "outputs": [],
   "source": [
    "! pip install sentencepiece"
   ]
  },
  {
   "cell_type": "code",
   "execution_count": null,
   "metadata": {},
   "outputs": [],
   "source": [
    "! pip install protobuf"
   ]
  },
  {
   "cell_type": "code",
   "execution_count": null,
   "metadata": {},
   "outputs": [],
   "source": [
    "# settings\n",
    "# https://huggingface.co/tuner007/pegasus_paraphrase"
   ]
  },
  {
   "cell_type": "code",
   "execution_count": 1,
   "metadata": {},
   "outputs": [],
   "source": [
    "import torch\n",
    "from transformers import PegasusForConditionalGeneration, PegasusTokenizer\n",
    "model_name = 'tuner007/pegasus_paraphrase'\n",
    "torch_device = 'cuda' if torch.cuda.is_available() else 'cpu'\n",
    "tokenizer = PegasusTokenizer.from_pretrained(model_name)\n",
    "model = PegasusForConditionalGeneration.from_pretrained(model_name).to(torch_device)\n",
    "\n",
    "def get_response(input_text,num_return_sequences,num_beams):\n",
    "  batch = tokenizer([input_text],truncation=True,padding='longest',max_length=60, return_tensors=\"pt\").to(torch_device)\n",
    "  translated = model.generate(**batch,max_length=60,num_beams=num_beams, num_return_sequences=num_return_sequences, temperature=1.5)\n",
    "  tgt_text = tokenizer.batch_decode(translated, skip_special_tokens=True)\n",
    "  return tgt_text"
   ]
  },
  {
   "cell_type": "code",
   "execution_count": 10,
   "metadata": {},
   "outputs": [
    {
     "data": {
      "text/plain": [
       "[[\"It's setup to 'direct debit' for quick and safe bill payments.\"],\n",
       " [\"You will not regret setting up to 'direct debit' for quick and safe bill payments.\"],\n",
       " ['You will not regret setting up direct debit for quick and safe bill payments.'],\n",
       " ['You will not regret setting up to direct debit for quick and safe bill payments.'],\n",
       " [\"You won't regret setting up direct debit for quick and safe bill payments.\"],\n",
       " ['You will not regret setting up a direct debit for quick and safe bill payments.'],\n",
       " [\"It's setup to 'direct debit' for quick and safe bill payments, and you won't regret it.\"],\n",
       " [\"It's setup to 'direct debit' for quick and safe bill payments and you won't regret it.\"],\n",
       " [\"It's setup to 'direct debit' for quick and safe bill payments, you won't regret it.\"],\n",
       " [\"You will not regret setting up to 'direct debit' for bill payments.\"]]"
      ]
     },
     "execution_count": 10,
     "metadata": {},
     "output_type": "execute_result"
    }
   ],
   "source": [
    "baseline_message = \"You won't regret, setup to 'direct debit' for quick and safe bill payments.\"\n",
    "\n",
    "# Why wait to become financially Savvy. You are already paying bills on time. Just switch to 'direct debits' for a more hassle free experience.\n",
    "\n",
    "# baseline_message = \"Take charge of you finances. You mostly pay bills on time. Switch to 'direct debit' to make hassle free payments\"\n",
    "# Avoid the troubles of late fee/fine. Switch to 'direct debits' facility. A great way to pay your bills hassle free\n",
    "#  Dont miss out on our 'direct debit' facility. A great way to pay your bills hassle free\n",
    "from sentence_splitter import SentenceSplitter, split_text_into_sentences\n",
    "\n",
    "splitter = SentenceSplitter(language='en')\n",
    "sentence_list = splitter.split(baseline_message)\n",
    "sentence_list\n",
    "\n",
    "paraphrase = []\n",
    "num_return_sequences = 10\n",
    "num_beams = 10\n",
    "for i in sentence_list:\n",
    "    a = get_response(i,num_return_sequences,num_beams)\n",
    "    paraphrase.append(a)\n",
    "    \n",
    "paraphrase_text = [[]]*num_return_sequences\n",
    "\n",
    "concat_phrase = []\n",
    "\n",
    "for j in range(num_return_sequences):\n",
    "    for i in range(len(sentence_list)):\n",
    "        a = paraphrase[i][j]\n",
    "        concat_phrase.append(a)\n",
    "    paraphrase_text[j] = concat_phrase\n",
    "    concat_phrase=[]        \n",
    "\n",
    "paraphrase_text"
   ]
  },
  {
   "cell_type": "code",
   "execution_count": 11,
   "metadata": {},
   "outputs": [
    {
     "data": {
      "text/plain": [
       "[[\"Why don't you become financially savvy now?\",\n",
       "  'You are paying on time.',\n",
       "  'For a hassle free experience, just switch to direct debits.'],\n",
       " [\"Don't wait to become financially savvy.\",\n",
       "  'You are on time with your payments.',\n",
       "  'For a hassle free experience, switch to direct debits.'],\n",
       " [\"Wouldn't it be better to become financially savvy now?\",\n",
       "  \"You're paying on time.\",\n",
       "  \"For a hassle free experience, just switch to 'direct debits'.\"],\n",
       " [\"You shouldn't wait to become financially savvy.\",\n",
       "  'You are on time with your payment.',\n",
       "  'For a hassle-free experience, just switch to direct debits.'],\n",
       " ['Why not become financially savvy now?',\n",
       "  \"You're already paying on time.\",\n",
       "  \"For a hassle free experience, switch to 'direct debits'.\"],\n",
       " [\"Why don't you become financially savvy?\",\n",
       "  'You have to pay on time.',\n",
       "  'For a hassle-free experience, switch to direct debits.'],\n",
       " [\"Wouldn't it be better to become financially savvy?\",\n",
       "  \"You're on time with your payments.\",\n",
       "  'For a hassle free experience, simply switch to direct debits.'],\n",
       " ['Why wait until you become financially savvy?',\n",
       "  'You are on time.',\n",
       "  \"For a hassle-free experience, just switch to 'direct debits'.\"],\n",
       " ['Why wait to become financially savvy?',\n",
       "  'You are paying your bill on time.',\n",
       "  \"For a hassle free experience, simply switch to 'direct debits'.\"],\n",
       " ['Why wait to make money?',\n",
       "  'You have to pay P0001 on time.',\n",
       "  'If you want a hassle free experience, switch to direct debits.'],\n",
       " ['Why wait until you are financially savvy?',\n",
       "  'You pay on time.',\n",
       "  'For a more hassle free experience, just switch to direct debits.'],\n",
       " [\"Why don't you become financially savvy today?\",\n",
       "  \"You're on time with your payment.\",\n",
       "  'For a more hassle free experience, switch to direct debits.'],\n",
       " ['Why wait when you can become financially savvy?',\n",
       "  'On time, you are paying P0001.',\n",
       "  \"For a hassle-free experience, switch to 'direct debits'.\"],\n",
       " [\"Why don't you become financially savvy right away?\",\n",
       "  'You paid on time.',\n",
       "  'If you want a hassle free experience, just switch to direct debits.'],\n",
       " [\"Why don't you become a financially savvy person?\",\n",
       "  'You have paid on time.',\n",
       "  \"For a more hassle free experience, just switch to 'direct debits'.\"],\n",
       " ['Why wait to be smart?',\n",
       "  'You are on time with the payment.',\n",
       "  \"For a more hassle free experience, switch to 'direct debits'.\"],\n",
       " ['It would be better to become financially savvy now.',\n",
       "  \"On time, you're paying P0001.\",\n",
       "  'For a hassle-free experience, simply switch to direct debits.'],\n",
       " [\"Why don't you become financially savvy right now?\",\n",
       "  \"On time, you're already paying P0001.\",\n",
       "  \"It's a hassle free experience if you switch to direct debits.\"],\n",
       " [\"Wouldn't it be better to become financially savvy right away?\",\n",
       "  'You are on time with the payments.',\n",
       "  'For a more hassle-free experience, switch to direct debits.'],\n",
       " ['If you wait to become financially savvy, you will miss out.',\n",
       "  'On time, you are already paying P0001.',\n",
       "  'For a more hassle-free experience, just switch to direct debits.']]"
      ]
     },
     "execution_count": 11,
     "metadata": {},
     "output_type": "execute_result"
    }
   ],
   "source": [
    "baseline_message = \"Why wait to become financially Savvy. You are already paying P0001 on time. Just switch to 'direct debits' for a more hassle free experience.\"\n",
    "\n",
    "# Why wait to become financially Savvy. You are already paying bills on time. Just switch to 'direct debits' for a more hassle free experience.\n",
    "\n",
    "# baseline_message = \"Take charge of you finances. You mostly pay bills on time. Switch to 'direct debit' to make hassle free payments\"\n",
    "# Avoid the troubles of late fee/fine. Switch to 'direct debits' facility. A great way to pay your bills hassle free\n",
    "#  Dont miss out on our 'direct debit' facility. A great way to pay your bills hassle free\n",
    "from sentence_splitter import SentenceSplitter, split_text_into_sentences\n",
    "\n",
    "splitter = SentenceSplitter(language='en')\n",
    "sentence_list = splitter.split(baseline_message)\n",
    "sentence_list\n",
    "\n",
    "paraphrase = []\n",
    "num_return_sequences = 20\n",
    "num_beams = 20\n",
    "for i in sentence_list:\n",
    "    a = get_response(i,num_return_sequences,num_beams)\n",
    "    paraphrase.append(a)\n",
    "    \n",
    "paraphrase_text = [[]]*num_return_sequences\n",
    "\n",
    "concat_phrase = []\n",
    "\n",
    "for j in range(num_return_sequences):\n",
    "    for i in range(len(sentence_list)):\n",
    "        a = paraphrase[i][j]\n",
    "        concat_phrase.append(a)\n",
    "    paraphrase_text[j] = concat_phrase\n",
    "    concat_phrase=[]        \n",
    "\n",
    "paraphrase_text"
   ]
  },
  {
   "cell_type": "code",
   "execution_count": null,
   "metadata": {},
   "outputs": [
    {
     "name": "stdout",
     "output_type": "stream",
     "text": [
      "Casual to Formal model loaded...\n",
      "----------------------------------------------------------------------------------------------------\n",
      "[Casual]  If you wait to become financially savvy, you will miss out.\n",
      "----------------------------------------------------------------------------------------------------\n",
      "[Formal]  You will miss out if you wait for a financial solution.\n",
      "\n",
      "----------------------------------------------------------------------------------------------------\n",
      "[Casual]  On time, you are already paying P0001.\n",
      "----------------------------------------------------------------------------------------------------\n",
      "[Formal]  You are already paying the P0001 on time.\n",
      "\n"
     ]
    }
   ],
   "source": [
    "from styleformer import Styleformer\n",
    "import torch\n",
    "import warnings\n",
    "warnings.filterwarnings(\"ignore\")\n",
    "\n",
    "#uncomment for re-producability\n",
    "def set_seed(seed):\n",
    "  torch.manual_seed(seed)\n",
    "  if torch.cuda.is_available():\n",
    "    torch.cuda.manual_seed_all(seed)\n",
    "\n",
    "set_seed(1234)\n",
    "\n",
    "# style = [0=Casual to Formal, 1=Formal to Casual, 2=Active to Passive, 3=Passive to Active etc..]\n",
    "sf = Styleformer(style = 0) \n",
    "\n",
    "source_sentences = [\n",
    "\"If you wait to become financially savvy, you will miss out.\",\n",
    "\"On time, you are already paying P0001.\",\n",
    "\"For a more hassle-free experience, just switch to direct debits.\",\n",
    "]   \n",
    "\n",
    "for source_sentence in source_sentences:\n",
    "    target_sentence = sf.transfer(source_sentence)\n",
    "    print(\"-\" *100)\n",
    "    print(\"[Casual] \", source_sentence)\n",
    "    print(\"-\" *100)\n",
    "    if target_sentence is not None:\n",
    "        print(\"[Formal] \",target_sentence)\n",
    "        print()\n",
    "    else:\n",
    "        print(\"No good quality transfers available !\")\n"
   ]
  },
  {
   "cell_type": "code",
   "execution_count": null,
   "metadata": {},
   "outputs": [],
   "source": []
  }
 ],
 "metadata": {
  "kernelspec": {
   "display_name": "Python 3",
   "language": "python",
   "name": "python3"
  },
  "language_info": {
   "codemirror_mode": {
    "name": "ipython",
    "version": 3
   },
   "file_extension": ".py",
   "mimetype": "text/x-python",
   "name": "python",
   "nbconvert_exporter": "python",
   "pygments_lexer": "ipython3",
   "version": "3.7.6"
  }
 },
 "nbformat": 4,
 "nbformat_minor": 4
}
